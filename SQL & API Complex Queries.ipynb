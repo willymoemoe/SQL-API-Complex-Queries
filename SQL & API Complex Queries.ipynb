{
 "cells": [
  {
   "cell_type": "code",
   "execution_count": null,
   "id": "3fba6f74-5cfb-4fc6-b8c9-c78011e61ed9",
   "metadata": {},
   "outputs": [],
   "source": [
    "#This query joins the \"orders\" and \"customers\" tables and filters the results based on the customer's country.\n",
    "SELECT *\n",
    "FROM orders\n",
    "JOIN customers ON orders.customer_id = customers.customer_id\n",
    "WHERE customers.country = 'USA'\n"
   ]
  },
  {
   "cell_type": "code",
   "execution_count": null,
   "id": "7835e2ab-b903-40dc-aa87-8451088eedbb",
   "metadata": {},
   "outputs": [],
   "source": [
    "# can use subqueries in SQL to perform a query within a query. For example:"
   ]
  }
 ],
 "metadata": {
  "kernelspec": {
   "display_name": "anaconda-2022.05-py39",
   "language": "python",
   "name": "conda-env-anaconda-2022.05-py39-py"
  },
  "language_info": {
   "codemirror_mode": {
    "name": "ipython",
    "version": 3
   },
   "file_extension": ".py",
   "mimetype": "text/x-python",
   "name": "python",
   "nbconvert_exporter": "python",
   "pygments_lexer": "ipython3",
   "version": "3.9.12"
  }
 },
 "nbformat": 4,
 "nbformat_minor": 5
}
